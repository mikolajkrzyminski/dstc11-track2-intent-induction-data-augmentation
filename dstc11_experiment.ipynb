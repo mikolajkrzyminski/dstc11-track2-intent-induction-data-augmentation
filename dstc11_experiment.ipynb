{
  "cells": [
    {
      "cell_type": "markdown",
      "metadata": {
        "id": "QxsgesUf1gWz"
      },
      "source": [
        "# DSTC11 TRACK 2- Data augmentation experiment"
      ]
    },
    {
      "cell_type": "markdown",
      "metadata": {
        "id": "9QWtNwCi2gim"
      },
      "source": [
        "## Setup workspace"
      ]
    },
    {
      "cell_type": "markdown",
      "metadata": {
        "id": "fp6DToiH1pSB"
      },
      "source": [
        "1. Clone the 'dstc11-track2-intent-induction' repo for the first time"
      ]
    },
    {
      "cell_type": "code",
      "execution_count": null,
      "metadata": {
        "id": "8Q6DVKoB5Rto"
      },
      "outputs": [],
      "source": [
        "repo_name = 'dstc11-track2-intent-induction-data-augmentation'"
      ]
    },
    {
      "cell_type": "code",
      "execution_count": null,
      "metadata": {
        "colab": {
          "base_uri": "https://localhost:8080/"
        },
        "id": "xl2HlL459Uc9",
        "outputId": "13a3c122-31aa-45ed-bdd9-fe5ff05e8f1e"
      },
      "outputs": [
        {
          "name": "stdout",
          "output_type": "stream",
          "text": [
            "Mounted at /content/drive\n"
          ]
        }
      ],
      "source": [
        "from google.colab import drive\n",
        "drive.mount('/content/drive')"
      ]
    },
    {
      "cell_type": "code",
      "execution_count": null,
      "metadata": {
        "colab": {
          "base_uri": "https://localhost:8080/"
        },
        "id": "ltNlAefR9ETi",
        "outputId": "4b0caf95-c1d3-4b53-9ef9-cfa4e0d016ea"
      },
      "outputs": [
        {
          "name": "stdout",
          "output_type": "stream",
          "text": [
            "Cloning into 'dstc11-track2-intent-induction-data-augmentation'...\n",
            "remote: Enumerating objects: 348, done.\u001b[K\n",
            "remote: Counting objects: 100% (348/348), done.\u001b[K\n",
            "remote: Compressing objects: 100% (104/104), done.\u001b[K\n",
            "remote: Total 348 (delta 152), reused 326 (delta 133), pack-reused 0\u001b[K\n",
            "Receiving objects: 100% (348/348), 9.46 MiB | 4.56 MiB/s, done.\n",
            "Resolving deltas: 100% (152/152), done.\n"
          ]
        }
      ],
      "source": [
        "!git clone https://github.com/mikolajkrzyminski/dstc11-track2-intent-induction-data-augmentation.git"
      ]
    },
    {
      "cell_type": "markdown",
      "metadata": {
        "id": "9i674fz32UPu"
      },
      "source": [
        "or import saved work from drive"
      ]
    },
    {
      "cell_type": "code",
      "execution_count": null,
      "metadata": {
        "id": "MuI0plV82Ch_"
      },
      "outputs": [],
      "source": [
        "from google.colab import drive\n",
        "from google.colab import files\n",
        "import zipfile\n",
        "\n",
        "with zipfile.ZipFile(f\"/content/drive/MyDrive/YRRSDS/{repo_name}.zip\", 'r') as zip_ref:\n",
        "    zip_ref.extractall(f\"/content/{repo_name}\")\n"
      ]
    },
    {
      "cell_type": "markdown",
      "metadata": {
        "id": "0oqcygGK132m"
      },
      "source": [
        "Optional*: save your progress to Drive"
      ]
    },
    {
      "cell_type": "code",
      "execution_count": null,
      "metadata": {
        "colab": {
          "base_uri": "https://localhost:8080/",
          "height": 53
        },
        "id": "RxM9aHClsbPP",
        "outputId": "8cafd434-74ee-4422-fbaa-b33703731622"
      },
      "outputs": [
        {
          "data": {
            "application/vnd.google.colaboratory.intrinsic+json": {
              "type": "string"
            },
            "text/plain": [
              "'/content/drive/MyDrive/YRRSDS/dstc11-track2-intent-induction-data-augmentation.zip'"
            ]
          },
          "execution_count": 52,
          "metadata": {},
          "output_type": "execute_result"
        }
      ],
      "source": [
        "import shutil\n",
        "\n",
        "shutil.make_archive(f'/content/drive/MyDrive/YRRSDS/{repo_name}', format='zip', root_dir=f'/content/{repo_name}')"
      ]
    },
    {
      "cell_type": "markdown",
      "metadata": {
        "id": "VpzXBmOY3BCe"
      },
      "source": [
        "2. Go to:"
      ]
    },
    {
      "cell_type": "code",
      "execution_count": null,
      "metadata": {
        "colab": {
          "base_uri": "https://localhost:8080/"
        },
        "id": "rFxKEKRvv7e7",
        "outputId": "be9eebcd-99fc-4232-a7b0-34e32a96c950"
      },
      "outputs": [
        {
          "name": "stdout",
          "output_type": "stream",
          "text": [
            "/content/dstc11-track2-intent-induction-data-augmentation\n"
          ]
        }
      ],
      "source": [
        "%cd /content/dstc11-track2-intent-induction-data-augmentation"
      ]
    },
    {
      "cell_type": "markdown",
      "metadata": {
        "id": "t20Lfx4j3FFG"
      },
      "source": [
        "3. Install requirements"
      ]
    },
    {
      "cell_type": "code",
      "execution_count": null,
      "metadata": {
        "id": "vme5fCKZwMtu"
      },
      "outputs": [],
      "source": [
        "!pip3 install -r requirements.txt"
      ]
    },
    {
      "cell_type": "code",
      "execution_count": null,
      "metadata": {
        "colab": {
          "base_uri": "https://localhost:8080/"
        },
        "id": "-XH3vpfjWlIP",
        "outputId": "3a1f90ac-4869-401e-866a-db238d6d773d"
      },
      "outputs": [
        {
          "name": "stdout",
          "output_type": "stream",
          "text": [
            "Requirement already satisfied: urllib3 in /usr/local/lib/python3.10/dist-packages (1.26.16)\n",
            "Collecting urllib3\n",
            "  Downloading urllib3-2.0.4-py3-none-any.whl (123 kB)\n",
            "\u001b[2K     \u001b[90m━━━━━━━━━━━━━━━━━━━━━━━━━━━━━━━━━━━━━━━\u001b[0m \u001b[32m123.9/123.9 kB\u001b[0m \u001b[31m2.2 MB/s\u001b[0m eta \u001b[36m0:00:00\u001b[0m\n",
            "\u001b[?25hInstalling collected packages: urllib3\n",
            "  Attempting uninstall: urllib3\n",
            "    Found existing installation: urllib3 1.26.16\n",
            "    Uninstalling urllib3-1.26.16:\n",
            "      Successfully uninstalled urllib3-1.26.16\n",
            "\u001b[31mERROR: pip's dependency resolver does not currently take into account all the packages that are installed. This behaviour is the source of the following dependency conflicts.\n",
            "botocore 1.31.36 requires urllib3<1.27,>=1.25.4, but you have urllib3 2.0.4 which is incompatible.\n",
            "torchdata 0.6.1 requires torch==2.0.1, but you have torch 1.12.1 which is incompatible.\n",
            "torchtext 0.15.2 requires torch==2.0.1, but you have torch 1.12.1 which is incompatible.\u001b[0m\u001b[31m\n",
            "\u001b[0mSuccessfully installed urllib3-2.0.4\n"
          ]
        }
      ],
      "source": [
        "!pip install --upgrade urllib3"
      ]
    },
    {
      "cell_type": "code",
      "execution_count": null,
      "metadata": {
        "id": "sZp80md6BlLC"
      },
      "outputs": [],
      "source": [
        "import logging\n",
        "import pytz\n",
        "from datetime import datetime\n",
        "import pprint\n",
        "\n",
        "def logg_message(message):\n",
        "    zagreb_tz = pytz.timezone('Europe/Zagreb')\n",
        "    now = datetime.now(tz=pytz.utc)\n",
        "    zagreb_time = now.astimezone(zagreb_tz)\n",
        "    print(f\"[{zagreb_time.strftime('%H:%M:%S %d-%b-%y')}]\", message)\n",
        "\n",
        "def logg_pp_message(message, pprint_message):\n",
        "    logg_message(message)\n",
        "    pp = pprint.PrettyPrinter(indent=4, width=40)\n",
        "    pp.pprint(pprint_message)\n"
      ]
    },
    {
      "cell_type": "code",
      "execution_count": null,
      "metadata": {
        "colab": {
          "base_uri": "https://localhost:8080/"
        },
        "id": "Q61MS6iBMJu9",
        "outputId": "a5e9e0f1-28b1-4838-eb1a-7ad2cedb512b"
      },
      "outputs": [
        {
          "name": "stdout",
          "output_type": "stream",
          "text": [
            "[10:51:36 29-Aug-23] hello\n",
            "{   'Author': 'Mikołaj Krzymiński',\n",
            "    'Hello': 'YRRSDS!'}\n"
          ]
        }
      ],
      "source": [
        "logg_pp_message('hello', {'Hello': 'YRRSDS!', 'Author': 'Mikołaj Krzymiński'})"
      ]
    },
    {
      "cell_type": "markdown",
      "metadata": {
        "id": "bL3WsnZwOzGp"
      },
      "source": [
        "## Experiment"
      ]
    },
    {
      "cell_type": "markdown",
      "metadata": {
        "id": "yiydyTX8AjUE"
      },
      "source": [
        "1. Setup configuration\n",
        "\n",
        "|variable       |description |\n",
        "|---------------|---|\n",
        "|*size_samples* |the size of tested augmentations 0.25 means that the augmentation has a size of 25% of the base set |\n",
        "|*reducted_size*|the reduction of source dataset|\n",
        "|*seed*         |seed form experiment|\n",
        "|*datasets*     |tested datasets remember to change datasets in dstc config files: <br/> */dstc11-track2-intent-induction-data-augmentation/configs/run-intent-clustering-baselines.jsonnet* and <br/> */dstc11-track2-intent-induction-data-augmentation/configs/run-open-intent-induction-baselines.jsonnet*|\n",
        "|*tasks_names*         |tasks available for DTSC Track 2|\n",
        "|*choosen_task*         |choosen task|\n",
        "\n",
        "|const          |description           |\n",
        "|---------------|----------------------|\n",
        "|*project_path* |path to project       |\n",
        "|*data_path*    |path for source data  |\n",
        "|*red_data_path*|path for reducted data|\n"
      ]
    },
    {
      "cell_type": "code",
      "execution_count": null,
      "metadata": {
        "id": "2YHIk7D7YaV2"
      },
      "outputs": [],
      "source": [
        "size_samples = [\n",
        "    0.0,\n",
        "    0.025,\n",
        "    0.05,\n",
        "    0.075,\n",
        "    0.10,\n",
        "    0.125,\n",
        "    0.15,\n",
        "    0.20,\n",
        "    0.30,\n",
        "    0.40,\n",
        "    0.50,\n",
        "    #0.60,\n",
        "    #0.70,\n",
        "    #0.80,\n",
        "    #0.90,\n",
        "    #1.00\n",
        "]\n",
        "reducted_size = 1.0\n",
        "seed          = 42\n",
        "datasets      = [\n",
        "    # 'development',\n",
        "    'test-banking',\n",
        "    # 'test-finance'\n",
        "]\n",
        "tasks_names = [\n",
        "    \"intent-clustering-baselines\",\n",
        "    \"open-intent-induction-baselines\"\n",
        "]\n",
        "\n",
        "choosen_task = tasks_names[0]\n",
        "\n",
        "project_path  = f'/content/{repo_name}'\n",
        "data_path     = f'{project_path}/dstc11'\n",
        "red_data_path = f'{project_path}/mod_data/dstc11-{reducted_size}-seed{seed}'"
      ]
    },
    {
      "cell_type": "markdown",
      "metadata": {
        "id": "qHmzapsPAuFr"
      },
      "source": [
        "2. Reduce dataset size"
      ]
    },
    {
      "cell_type": "code",
      "execution_count": null,
      "metadata": {
        "colab": {
          "base_uri": "https://localhost:8080/"
        },
        "id": "l1VFTy9rQWxL",
        "outputId": "9b6cba4d-678a-4a73-d805-6935e4257bf0"
      },
      "outputs": [
        {
          "name": "stdout",
          "output_type": "stream",
          "text": [
            "[13:08:13 29-Aug-23] Copy from: /content/dstc11-track2-intent-induction-data-augmentation/dstc11 to: /content/dstc11-track2-intent-induction-data-augmentation/mod_data/dstc11-1.0-seed42\n",
            "[13:08:13 29-Aug-23] Create: /content/dstc11-track2-intent-induction-data-augmentation/mod_data/dstc11-1.0-seed42/test-banking/dialogues.jsonl\n"
          ]
        }
      ],
      "source": [
        "import shutil\n",
        "import os\n",
        "import random\n",
        "\n",
        "def get_reducted_dataset(reducted_size = reducted_size, seed = seed, data_path = data_path, red_data_path = red_data_path, datasets = datasets):\n",
        "    if os.path.exists(red_data_path) and os.path.isdir(red_data_path):\n",
        "        shutil.rmtree(red_data_path)\n",
        "        logg_message(f'Remove existing: {red_data_path}')\n",
        "    shutil.copytree(data_path, red_data_path)\n",
        "    logg_message(f'Copy from: {data_path} to: {red_data_path}')\n",
        "    random.seed(seed)\n",
        "    for dataset_name in datasets:\n",
        "        lines = []\n",
        "        with open(f'{data_path}/{dataset_name}/dialogues.jsonl') as file:\n",
        "            lines = [line.rstrip() for line in file]\n",
        "        reducted_size_lines = round(reducted_size * len(lines))\n",
        "        picked_lines_ids = random.sample(range(len(lines)), reducted_size_lines)\n",
        "        sorted_lines_ids = sorted(picked_lines_ids)\n",
        "        res_lines = [lines[i] for i in sorted_lines_ids]\n",
        "        red_data_path = os.path.join(red_data_path, dataset_name, 'dialogues.jsonl')\n",
        "        with open(red_data_path, 'w') as fp:\n",
        "            for item in res_lines:\n",
        "                # write each item on a new line\n",
        "                fp.write(\"%s\\n\" % item)\n",
        "            logg_message(f'Create: {red_data_path}')\n",
        "\n",
        "get_reducted_dataset()"
      ]
    },
    {
      "cell_type": "markdown",
      "metadata": {
        "id": "bjg4pRVEO52M"
      },
      "source": [
        "3. Get customer utterances"
      ]
    },
    {
      "cell_type": "code",
      "execution_count": null,
      "metadata": {
        "colab": {
          "base_uri": "https://localhost:8080/"
        },
        "id": "raRRJzemK2vi",
        "outputId": "29a3f0a5-9b4d-457d-b338-2c54a2a529e8"
      },
      "outputs": [
        {
          "name": "stdout",
          "output_type": "stream",
          "text": [
            "[13:08:16 29-Aug-23] Reading 3696 customer utterances from: /content/dstc11-track2-intent-induction-data-augmentation/mod_data/dstc11-1.0-seed42/test-banking/dialogues.jsonl\n",
            "[13:08:16 29-Aug-23] Sample utterance object: \n",
            "(\"[..., {'utterance': 'Charging me any \"\n",
            " \"fee', 'intents': []},...]\")\n"
          ]
        }
      ],
      "source": [
        "import json\n",
        "import random\n",
        "\n",
        "def get_input_text(datasets=datasets):\n",
        "    input_texts = {}\n",
        "    for dataset_name in datasets:\n",
        "        lines = []\n",
        "        dataset_input_texts = []\n",
        "        red_data_customer = f'{red_data_path}/{dataset_name}/dialogues.jsonl'\n",
        "        with open(red_data_customer) as file:\n",
        "            lines = [line.rstrip() for line in file]\n",
        "            for line in lines:\n",
        "                dialogue = json.loads(line)\n",
        "                # print(dialogue)\n",
        "                for turn_dict in dialogue['turns']:\n",
        "                    if (turn_dict['speaker_role'] == 'Customer' and 'InformIntent' in turn_dict['dialogue_acts']):\n",
        "                        dataset_input_texts.append({'utterance': turn_dict['utterance'], 'intents': turn_dict['intents']})\n",
        "        logg_message(f'Reading {len(dataset_input_texts)} customer utterances from: {red_data_customer}')\n",
        "        logg_pp_message('Sample utterance object: ', '[..., ' + str(random.choice(dataset_input_texts)) + ',...]')\n",
        "\n",
        "        input_texts[dataset_name] = dataset_input_texts\n",
        "    return(input_texts)\n",
        "\n",
        "input_texts = get_input_text()\n"
      ]
    },
    {
      "cell_type": "markdown",
      "metadata": {
        "id": "_ODA9P7eVKH9"
      },
      "source": [
        "4. Generate augmentations, recomended to use GPU"
      ]
    },
    {
      "cell_type": "code",
      "execution_count": null,
      "metadata": {
        "colab": {
          "base_uri": "https://localhost:8080/"
        },
        "id": "nPLS2VUNQKxD",
        "outputId": "76f7c1c5-1b3d-4b3e-c3d5-e9b58ec49659"
      },
      "outputs": [
        {
          "name": "stderr",
          "output_type": "stream",
          "text": [
            "100%|██████████| 3696/3696 [31:55<00:00,  1.93it/s]"
          ]
        },
        {
          "name": "stdout",
          "output_type": "stream",
          "text": [
            "[13:40:36 29-Aug-23] Create: /content/dstc11-track2-intent-induction-data-augmentation/mod_data/dstc11-1.0-seed42/test-banking/augmentation.json\n",
            "[13:40:36 29-Aug-23] Sample augmentation object: \n",
            "('[..., {\\'utterance\\': \"no. Well, '\n",
            " \"there's no fees if it's if I'm using \"\n",
            " 'one of our ATMs, right?\", '\n",
            " \"'intents': ['AskAboutATMFees'], \"\n",
            " '\\'translations\\': [\"no. Well, '\n",
            " \"there's no fees if it's if I'm using \"\n",
            " 'one of our ATMs, right?\", \\'Nun, es '\n",
            " 'gibt keine Gebühren, wenn ich einen '\n",
            " 'unserer Geldautomaten benutze, '\n",
            " 'richtig?\\', \"Well, there\\'s no fees '\n",
            " 'if I use one of our ATMs, right?\"], '\n",
            " '\\'aug_utterance\\': \"Well, there\\'s '\n",
            " 'no fees if I use one of our ATMs, '\n",
            " 'right?\"},...]')\n"
          ]
        },
        {
          "name": "stderr",
          "output_type": "stream",
          "text": [
            "\n"
          ]
        }
      ],
      "source": [
        "from transformers import AutoModelForSeq2SeqLM, AutoTokenizer\n",
        "import torch\n",
        "import copy\n",
        "import tqdm\n",
        "import random\n",
        "\n",
        "def get_augmentations(dataset_input_texts=input_texts, datasets=datasets, red_data_path=red_data_path):\n",
        "    device = torch.device(\"cuda\" if torch.cuda.is_available() else \"cpu\")\n",
        "\n",
        "    # source & destination languages\n",
        "    src = \"en\"\n",
        "    dst = \"de\"\n",
        "\n",
        "    model_name1 = f\"Helsinki-NLP/opus-mt-{src}-{dst}\"\n",
        "    model_name2 = f\"Helsinki-NLP/opus-mt-{dst}-{src}\"\n",
        "\n",
        "    tokenizer1 = AutoTokenizer.from_pretrained(model_name1)\n",
        "    tokenizer2 = AutoTokenizer.from_pretrained(model_name2)\n",
        "\n",
        "    model1 = AutoModelForSeq2SeqLM.from_pretrained(model_name1).to(device)\n",
        "    model2 = AutoModelForSeq2SeqLM.from_pretrained(model_name2).to(device)\n",
        "\n",
        "    # Translate from src to dst (e.g., en to de)\n",
        "    dataset_result_translations = {}\n",
        "    for dataset_name in datasets:\n",
        "        aug_path = f'{red_data_path}/{dataset_name}/augmentation.json'\n",
        "        if (os.path.exists(aug_path)):\n",
        "            with open(aug_path, 'r') as openfile:\n",
        "                dataset_result_translations[dataset_name] = json.load(openfile)\n",
        "            logg_message(f'Reading existing: {aug_path}')\n",
        "        else:\n",
        "            augmentation_results = []\n",
        "            # translated_texts1 = []\n",
        "            for input_text in tqdm.tqdm(dataset_input_texts[dataset_name]):\n",
        "                inputs1 = tokenizer1(input_text[\"utterance\"], return_tensors=\"pt\", padding=True).to(device)\n",
        "                translations1 = model1.generate(**inputs1, num_return_sequences=4)\n",
        "                translated_text1 = tokenizer1.decode(translations1[-1], skip_special_tokens=True)\n",
        "                # translated_texts1.append(translated_text1)\n",
        "\n",
        "            # Translate from dst to src (e.g., de to en)\n",
        "            # translated_texts2 = []\n",
        "            # for translated_text1 in translated_texts1:\n",
        "                inputs2 = tokenizer2(translated_text1, return_tensors=\"pt\", padding=True).to(device)\n",
        "                translation2 = model2.generate(**inputs2, num_return_sequences=4)\n",
        "                translated_text2 = tokenizer2.decode(translation2[-1], skip_special_tokens=True)\n",
        "                # translated_texts2.append(translated_text2)\n",
        "                input_text['translations'] = [input_text[\"utterance\"], translated_text1, translated_text2]\n",
        "                input_text['aug_utterance'] = translated_text2\n",
        "                augmentation_results.append(input_text)\n",
        "            dataset_result_translations[dataset_name] = augmentation_results\n",
        "            with open(aug_path, 'w+') as file:\n",
        "                json.dump(augmentation_results, file)\n",
        "            logg_message(f'Create: {red_data_path}/{dataset_name}/augmentation.json')\n",
        "        logg_pp_message('Sample augmentation object: ', '[..., ' + str(random.choice(dataset_result_translations[dataset_name])) + ',...]')\n",
        "\n",
        "    return(dataset_result_translations)\n",
        "\n",
        "backtranslated_texts = get_augmentations(input_texts)"
      ]
    },
    {
      "cell_type": "markdown",
      "metadata": {
        "id": "xVXLWpxzj8t2"
      },
      "source": [
        "5. Sampling augmentations"
      ]
    },
    {
      "cell_type": "code",
      "execution_count": null,
      "metadata": {
        "colab": {
          "base_uri": "https://localhost:8080/"
        },
        "id": "PgpXos6rq-2z",
        "outputId": "2fdf5555-2fec-4806-9e22-5c28cd2e7384"
      },
      "outputs": [
        {
          "name": "stdout",
          "output_type": "stream",
          "text": [
            "[13:40:36 29-Aug-23] Creating: /content/dstc11-track2-intent-induction-data-augmentation/mod_data/dstc11-1.0-seed42-aug0.0\n",
            "[13:40:36 29-Aug-23] Create: /content/dstc11-track2-intent-induction-data-augmentation/mod_data/dstc11-1.0-seed42-aug0.0/test-banking\n",
            "[13:40:36 29-Aug-23] Add dialogues to: /content/dstc11-track2-intent-induction-data-augmentation/mod_data/dstc11-1.0-seed42-aug0.0/test-banking/dialogues_augmentation.jsonl \n",
            "\n",
            "[13:40:36 29-Aug-23] Creating: /content/dstc11-track2-intent-induction-data-augmentation/mod_data/dstc11-1.0-seed42-aug0.025\n",
            "[13:40:36 29-Aug-23] Create: /content/dstc11-track2-intent-induction-data-augmentation/mod_data/dstc11-1.0-seed42-aug0.025/test-banking\n",
            "[13:40:36 29-Aug-23] Add dialogues to: /content/dstc11-track2-intent-induction-data-augmentation/mod_data/dstc11-1.0-seed42-aug0.025/test-banking/dialogues_augmentation.jsonl \n",
            "\n",
            "[13:40:36 29-Aug-23] Creating: /content/dstc11-track2-intent-induction-data-augmentation/mod_data/dstc11-1.0-seed42-aug0.05\n",
            "[13:40:36 29-Aug-23] Create: /content/dstc11-track2-intent-induction-data-augmentation/mod_data/dstc11-1.0-seed42-aug0.05/test-banking\n",
            "[13:40:36 29-Aug-23] Add dialogues to: /content/dstc11-track2-intent-induction-data-augmentation/mod_data/dstc11-1.0-seed42-aug0.05/test-banking/dialogues_augmentation.jsonl \n",
            "\n",
            "[13:40:36 29-Aug-23] Creating: /content/dstc11-track2-intent-induction-data-augmentation/mod_data/dstc11-1.0-seed42-aug0.075\n",
            "[13:40:36 29-Aug-23] Create: /content/dstc11-track2-intent-induction-data-augmentation/mod_data/dstc11-1.0-seed42-aug0.075/test-banking\n",
            "[13:40:36 29-Aug-23] Add dialogues to: /content/dstc11-track2-intent-induction-data-augmentation/mod_data/dstc11-1.0-seed42-aug0.075/test-banking/dialogues_augmentation.jsonl \n",
            "\n",
            "[13:40:36 29-Aug-23] Creating: /content/dstc11-track2-intent-induction-data-augmentation/mod_data/dstc11-1.0-seed42-aug0.1\n",
            "[13:40:36 29-Aug-23] Create: /content/dstc11-track2-intent-induction-data-augmentation/mod_data/dstc11-1.0-seed42-aug0.1/test-banking\n",
            "[13:40:36 29-Aug-23] Add dialogues to: /content/dstc11-track2-intent-induction-data-augmentation/mod_data/dstc11-1.0-seed42-aug0.1/test-banking/dialogues_augmentation.jsonl \n",
            "\n",
            "[13:40:36 29-Aug-23] Creating: /content/dstc11-track2-intent-induction-data-augmentation/mod_data/dstc11-1.0-seed42-aug0.125\n",
            "[13:40:36 29-Aug-23] Create: /content/dstc11-track2-intent-induction-data-augmentation/mod_data/dstc11-1.0-seed42-aug0.125/test-banking\n",
            "[13:40:36 29-Aug-23] Add dialogues to: /content/dstc11-track2-intent-induction-data-augmentation/mod_data/dstc11-1.0-seed42-aug0.125/test-banking/dialogues_augmentation.jsonl \n",
            "\n",
            "[13:40:36 29-Aug-23] Creating: /content/dstc11-track2-intent-induction-data-augmentation/mod_data/dstc11-1.0-seed42-aug0.15\n",
            "[13:40:36 29-Aug-23] Create: /content/dstc11-track2-intent-induction-data-augmentation/mod_data/dstc11-1.0-seed42-aug0.15/test-banking\n",
            "[13:40:36 29-Aug-23] Add dialogues to: /content/dstc11-track2-intent-induction-data-augmentation/mod_data/dstc11-1.0-seed42-aug0.15/test-banking/dialogues_augmentation.jsonl \n",
            "\n",
            "[13:40:36 29-Aug-23] Creating: /content/dstc11-track2-intent-induction-data-augmentation/mod_data/dstc11-1.0-seed42-aug0.2\n",
            "[13:40:36 29-Aug-23] Create: /content/dstc11-track2-intent-induction-data-augmentation/mod_data/dstc11-1.0-seed42-aug0.2/test-banking\n",
            "[13:40:36 29-Aug-23] Add dialogues to: /content/dstc11-track2-intent-induction-data-augmentation/mod_data/dstc11-1.0-seed42-aug0.2/test-banking/dialogues_augmentation.jsonl \n",
            "\n",
            "[13:40:36 29-Aug-23] Creating: /content/dstc11-track2-intent-induction-data-augmentation/mod_data/dstc11-1.0-seed42-aug0.3\n",
            "[13:40:36 29-Aug-23] Create: /content/dstc11-track2-intent-induction-data-augmentation/mod_data/dstc11-1.0-seed42-aug0.3/test-banking\n",
            "[13:40:36 29-Aug-23] Add dialogues to: /content/dstc11-track2-intent-induction-data-augmentation/mod_data/dstc11-1.0-seed42-aug0.3/test-banking/dialogues_augmentation.jsonl \n",
            "\n",
            "[13:40:36 29-Aug-23] Creating: /content/dstc11-track2-intent-induction-data-augmentation/mod_data/dstc11-1.0-seed42-aug0.4\n",
            "[13:40:36 29-Aug-23] Create: /content/dstc11-track2-intent-induction-data-augmentation/mod_data/dstc11-1.0-seed42-aug0.4/test-banking\n",
            "[13:40:36 29-Aug-23] Add dialogues to: /content/dstc11-track2-intent-induction-data-augmentation/mod_data/dstc11-1.0-seed42-aug0.4/test-banking/dialogues_augmentation.jsonl \n",
            "\n",
            "[13:40:36 29-Aug-23] Creating: /content/dstc11-track2-intent-induction-data-augmentation/mod_data/dstc11-1.0-seed42-aug0.5\n",
            "[13:40:36 29-Aug-23] Create: /content/dstc11-track2-intent-induction-data-augmentation/mod_data/dstc11-1.0-seed42-aug0.5/test-banking\n",
            "[13:40:36 29-Aug-23] Add dialogues to: /content/dstc11-track2-intent-induction-data-augmentation/mod_data/dstc11-1.0-seed42-aug0.5/test-banking/dialogues_augmentation.jsonl \n",
            "\n"
          ]
        }
      ],
      "source": [
        "import random\n",
        "from collections import Counter\n",
        "import numpy\n",
        "import copy\n",
        "\n",
        "def choose_random_elements_indices(data_dict, size, datasets=datasets, seed=seed):\n",
        "    random.seed(seed)\n",
        "    results_datasets = {}\n",
        "    for dataset_name in datasets:\n",
        "        data = data_dict[dataset_name]\n",
        "        num_samples = round(len(data) * size)\n",
        "        sample_indices = random.sample(range(len(data)), num_samples)\n",
        "        results_datasets[dataset_name] = sample_indices\n",
        "    return results_datasets\n",
        "\n",
        "dialogue_template = {\n",
        "    \"dialogue_id\": \"\",\n",
        "    \"turns\": []\n",
        "    }\n",
        "\n",
        "turn_template_customer = {\n",
        "    \"turn_id\"      : \"\",\n",
        "    \"speaker_role\" : \"Customer\",\n",
        "    \"utterance\"    : \"\",\n",
        "    \"dialogue_acts\": [\"InformIntent\"],\n",
        "    \"intents\"      : []\n",
        "    }\n",
        "\n",
        "turn_template_agent = {\n",
        "    \"turn_id\"      : \"\",\n",
        "    \"speaker_role\" : \"Agent\",\n",
        "    \"utterance\"    : \"\",\n",
        "    \"dialogue_acts\": [],\n",
        "    \"intents\"      : []\n",
        "    }\n",
        "\n",
        "def add_augmentation_jsonl(datasets_augmentations, size_sample, datasets=datasets, red_data_path=red_data_path):\n",
        "    aug_red_data_path = f'{red_data_path}-aug{size_sample}'\n",
        "    if not os.path.exists(aug_red_data_path) and not os.path.isdir(aug_red_data_path):\n",
        "        os.mkdir(aug_red_data_path)\n",
        "        logg_message(f\"Creating: {aug_red_data_path}\")\n",
        "    else:\n",
        "        logg_message(f\"Directory already exists: {aug_red_data_path}\")\n",
        "\n",
        "\n",
        "    for dataset_name in datasets:\n",
        "        dialogue_id = \"\"\n",
        "        turn_id_name = \"\"\n",
        "        dialogues_path = f'{red_data_path}/{dataset_name}/dialogues.jsonl'\n",
        "        with open(dialogues_path) as file:\n",
        "            lines = [line.rstrip() for line in file]\n",
        "            json_last_line = json.loads(lines[-1])\n",
        "            if 'development' == dataset_name:\n",
        "                dialogue_id = '{:0>3}'.format(int(json_last_line['dialogue_id']) + 1)\n",
        "            else:\n",
        "                dialogue_id = '{:0>3}'.format(int(json_last_line['dialogue_id'].split('_')[1]) + 1)\n",
        "            turn_id_name = json_last_line['turns'][0]['turn_id'].split('_')[0]\n",
        "        artificial_dialogue = \"\"\n",
        "        dialogue_temp = copy.deepcopy(dialogue_template)\n",
        "        dialogue_temp['dialogue_id'] = dialogue_id\n",
        "        for i, augmentation in enumerate(datasets_augmentations[dataset_name]):\n",
        "            turn_temp_agent = copy.deepcopy(turn_template_agent)\n",
        "            turn_temp_agent['turn_id'] = f\"{turn_id_name}_{dialogue_id}_\" + \"{:0>3}\".format(2 * i)\n",
        "            dialogue_temp['turns'].append(turn_temp_agent)\n",
        "            turn_temp_customer = copy.deepcopy(turn_template_customer)\n",
        "            turn_temp_customer['turn_id'] = f\"{turn_id_name}_{dialogue_id}_\" + \"{:0>3}\".format((2 * i) + 1)\n",
        "            turn_temp_customer['utterance'] = augmentation['aug_utterance']\n",
        "            turn_temp_customer['intents'] = augmentation['intents']\n",
        "\n",
        "            dialogue_temp['turns'].append(turn_temp_customer)\n",
        "\n",
        "        dataset_name_dir = f'{aug_red_data_path}/{dataset_name}'\n",
        "        dialogues_augmentation_path = f'{dataset_name_dir}/dialogues_augmentation.jsonl'\n",
        "        if not os.path.exists(dataset_name_dir) and not os.path.isdir(dataset_name_dir):\n",
        "            os.mkdir(dataset_name_dir)\n",
        "            logg_message(f\"Create: {dataset_name_dir}\")\n",
        "        with open(dialogues_augmentation_path, 'w+') as file:\n",
        "            file.write(json.dumps(dialogue_temp) +  \"\\n\")\n",
        "            logg_message(f\"Add dialogues to: {dialogues_augmentation_path} \\n\")\n",
        "\n",
        "def get_elements_by_indices(elements, indices, datasets=datasets):\n",
        "    results_sorted_elements = {}\n",
        "    for dataset in datasets:\n",
        "        results_sorted_elements[dataset] = [elements[dataset][i] for i in sorted(indices[dataset])]\n",
        "    return results_sorted_elements\n",
        "\n",
        "for size_sample in size_samples:\n",
        "    pure_random_elements_indices = choose_random_elements_indices(backtranslated_texts, size_sample)\n",
        "    element_by_indicies = get_elements_by_indices(elements=backtranslated_texts, indices=pure_random_elements_indices)\n",
        "    add_augmentation_jsonl(datasets_augmentations = element_by_indicies, size_sample=size_sample)"
      ]
    },
    {
      "cell_type": "code",
      "execution_count": null,
      "metadata": {
        "id": "tO1GuCwumGmu"
      },
      "outputs": [],
      "source": [
        "import subprocess\n",
        "import sys\n",
        "\n",
        "def get_shell_command(data_size, aug_size, dataset, task_name):\n",
        "    result_script = f\"\"\"\n",
        "        sed -i 's/\\\\r$//' {project_path}/run_colab_experiment.sh;\n",
        "        bash {project_path}/run_colab_experiment.sh {data_size} {aug_size} {dataset} {task_name}\n",
        "    \"\"\"\n",
        "    return result_script\n",
        "\n",
        "for size_sample in size_samples:\n",
        "    for dataset in datasets:\n",
        "        shell_command = get_shell_command(data_size=reducted_size, aug_size=size_sample, dataset=dataset, task_name=choosen_task)\n",
        "\n",
        "        process = subprocess.Popen(shell_command, shell=True, executable=\"/bin/bash\", stdout=subprocess.PIPE, stderr=subprocess.PIPE, text=True, bufsize=1)\n",
        "\n",
        "        logg_message(f\"Running command for data size={reducted_size}, size sample={size_sample}, dataset={dataset}, task={choosen_task}\")\n",
        "\n",
        "        for line in process.stdout:\n",
        "            print(line, end='')\n",
        "            sys.stdout.flush()\n",
        "\n",
        "        for line in process.stderr:\n",
        "            print(line, end='')\n",
        "            sys.stderr.flush()\n",
        "\n",
        "        process.wait()\n",
        "\n",
        "        logg_message(f\"Command completed for size_sample={size_sample}, dataset={dataset}\")\n"
      ]
    },
    {
      "cell_type": "markdown",
      "metadata": {
        "id": "M2Kxvl-Rz_5T"
      },
      "source": [
        "## Create plots"
      ]
    },
    {
      "cell_type": "code",
      "execution_count": null,
      "metadata": {
        "id": "4PIqFuGdz_Ty"
      },
      "outputs": [],
      "source": [
        "import pandas as pd\n",
        "import copy\n",
        "import os\n",
        "\n",
        "results_df = pd.DataFrame()\n",
        "\n",
        "baseline_value_f1 = 0.0\n",
        "baseline_value_ari = 0.0\n",
        "baseline_value_nmi = 0.0\n",
        "\n",
        "[dataset_name] = datasets\n",
        "\n",
        "for size_sample in size_samples:\n",
        "    aug_red_data_path = f'{red_data_path}-aug{size_sample}'\n",
        "    temp_df = pd.read_table(os.path.join(aug_red_data_path, f'results/{choosen_task}/summary.tsv'))\n",
        "    # temp_df = temp_df[temp_df.RunID != 'kmeans_glove-840b-300d']\n",
        "\n",
        "\n",
        "    temp_df['size_sample'] = size_sample\n",
        "    exp_id = aug_red_data_path.split('/')[-1]\n",
        "    temp_df['experiment_id'] = exp_id\n",
        "    if exp_id.endswith('-aug0.0'):\n",
        "        baseline_value_f1  = copy.deepcopy(temp_df.iloc[0][\"F1\"])\n",
        "        baseline_value_ari = copy.deepcopy(temp_df.iloc[0][\"ARI\"])\n",
        "        baseline_value_nmi = copy.deepcopy(temp_df.iloc[0][\"NMI\"])\n",
        "    temp_df['task'] = choosen_task\n",
        "    temp_df['dataset'] = dataset_name\n",
        "\n",
        "\n",
        "    if results_df.empty:\n",
        "        results_df = copy.deepcopy(temp_df)\n",
        "    else:\n",
        "        results_df = pd.concat([results_df, temp_df], axis=0, ignore_index=True)\n",
        "results_df['F1_diff'] = results_df['F1'].apply(lambda x: str(\"{0:+.04f}\".format(x - baseline_value_f1)))\n",
        "results_df['ARI_diff'] = results_df['ARI'].apply(lambda x: str(\"{0:+.04f}\".format(x - baseline_value_ari)))\n",
        "results_df['NMI_diff'] = results_df['NMI'].apply(lambda x: str(\"{0:+.04f}\".format(x - baseline_value_nmi)))\n",
        "\n"
      ]
    },
    {
      "cell_type": "code",
      "execution_count": null,
      "metadata": {
        "id": "xxv1cCoz3QYM"
      },
      "outputs": [],
      "source": [
        "import matplotlib.pyplot as plt\n",
        "import pandas as pd\n",
        "import ipywidgets as widgets\n",
        "from IPython.display import display"
      ]
    },
    {
      "cell_type": "code",
      "execution_count": null,
      "metadata": {
        "colab": {
          "base_uri": "https://localhost:8080/",
          "height": 1000,
          "referenced_widgets": [
            "9dc4e3f6175e416e8112ab646165044e",
            "b3c24142456447559d4868e0d731da13",
            "79006f3a33ae41f2bc307e68052ed9aa",
            "5e9038d56f9942648fb7d77303fb1773",
            "b1fe5ebbb6d44438b0076f7619dae3d7",
            "e376d98498f846c38d877fd0318a14f7",
            "a70cbdd05f2f48208f33e9be9c225c43",
            "528f287ea2564e88a9a02af92ea54f23",
            "dc8332f6b5674dd8b9acf8c2f0829eca",
            "3fee4546ffc64461912412ef13f3efa5",
            "acb19a185c69431a8bb05afeddc33d9d",
            "c5de1e334c864e2ca2a2e567baab4678",
            "dae9df6d2058467db97f3006af4b3f67",
            "202678a3ff094e76b10ecd549b640f6b",
            "af5bca53ea634665922436977df03c7c",
            "01f0da48192141109838529da08ae176",
            "89dbffb0f9e341a6b9ec324c09859e58",
            "2be724ef286244f8bc53c40082d3724e",
            "c025240f7fc94fb48cd44490c16e4720",
            "2af63f6187854a3cb9a7e06cc31950fb",
            "8bc1b1a9fe764f3694bae12b550bb507",
            "43e7921668004ff9ba325bc699b921a0",
            "ee0a4d5c2de947378bcccb72bd9f7327",
            "685229ed676e4b41afc8b813a0ea1d65",
            "e2a08733e5444ab3948d9a16a0c8e5fd",
            "d15cd5dd0145492ead8a5295597becc5",
            "f6a8861217d442ee81b9bdcce8c21c52",
            "46d5253ed7f747dbb1682f8b8037d6e7"
          ]
        },
        "id": "cz3j9hfg68Ko",
        "outputId": "4260f79f-849a-40b6-e20a-97e77a8b11c0"
      },
      "outputs": [
        {
          "data": {
            "application/vnd.jupyter.widget-view+json": {
              "model_id": "9dc4e3f6175e416e8112ab646165044e",
              "version_major": 2,
              "version_minor": 0
            },
            "text/plain": [
              "VBox(children=(SelectMultiple(description='RunID:', index=(0,), options=('kmeans_all-mpnet-base-v2',), value=(…"
            ]
          },
          "metadata": {},
          "output_type": "display_data"
        },
        {
          "name": "stderr",
          "output_type": "stream",
          "text": [
            "<ipython-input-17-7ffe7fd10397>:36: MatplotlibDeprecationWarning: The get_cmap function was deprecated in Matplotlib 3.7 and will be removed two minor releases later. Use ``matplotlib.colormaps[name]`` or ``matplotlib.colormaps.get_cmap(obj)`` instead.\n",
            "  color = plt.cm.get_cmap('Blues')(float(metric_shade))\n"
          ]
        },
        {
          "data": {
            "text/plain": [
              "<Figure size 1000x600 with 0 Axes>"
            ]
          },
          "metadata": {},
          "output_type": "display_data"
        },
        {
          "data": {
            "image/png": "[encoded data removed]",
            "text/plain": [
              "<Figure size 1000x600 with 1 Axes>"
            ]
          },
          "metadata": {},
          "output_type": "display_data"
        },
        {
          "name": "stderr",
          "output_type": "stream",
          "text": [
            "<ipython-input-17-7ffe7fd10397>:36: MatplotlibDeprecationWarning: The get_cmap function was deprecated in Matplotlib 3.7 and will be removed two minor releases later. Use ``matplotlib.colormaps[name]`` or ``matplotlib.colormaps.get_cmap(obj)`` instead.\n",
            "  color = plt.cm.get_cmap('Blues')(float(metric_shade))\n"
          ]
        },
        {
          "data": {
            "text/plain": [
              "<Figure size 640x480 with 0 Axes>"
            ]
          },
          "metadata": {},
          "output_type": "display_data"
        },
        {
          "data": {
            "image/png": "[encoded data removed]",
            "text/plain": [
              "<Figure size 1000x600 with 1 Axes>"
            ]
          },
          "metadata": {},
          "output_type": "display_data"
        },
        {
          "name": "stderr",
          "output_type": "stream",
          "text": [
            "<ipython-input-17-7ffe7fd10397>:36: MatplotlibDeprecationWarning: The get_cmap function was deprecated in Matplotlib 3.7 and will be removed two minor releases later. Use ``matplotlib.colormaps[name]`` or ``matplotlib.colormaps.get_cmap(obj)`` instead.\n",
            "  color = plt.cm.get_cmap('Blues')(float(metric_shade))\n"
          ]
        },
        {
          "data": {
            "text/plain": [
              "<Figure size 640x480 with 0 Axes>"
            ]
          },
          "metadata": {},
          "output_type": "display_data"
        },
        {
          "data": {
            "image/png": "[encoded data removed]",
            "text/plain": [
              "<Figure size 1000x600 with 1 Axes>"
            ]
          },
          "metadata": {},
          "output_type": "display_data"
        }
      ],
      "source": [
        "def plot_metrics_with_utterances(df):\n",
        "    plt.figure(figsize=(10, 6))\n",
        "\n",
        "    metric_checkboxes = {metric: widgets.Checkbox(description=metric, value=True) for metric in df.columns[1:7]}\n",
        "    metric_checkbox_group = widgets.VBox(list(metric_checkboxes.values()))\n",
        "\n",
        "    redraw_button = widgets.Button(description='Redraw Plot')\n",
        "\n",
        "    run_id_dropdown = widgets.SelectMultiple(options=df['RunID'].unique(), description='RunID:', value=[\n",
        "                                                                                                        'kmeans_all-mpnet-base-v2',\n",
        "                                                                                                         'kmeans_glove-840b-300d'\n",
        "                                                                                                        ])\n",
        "\n",
        "    def update_plot(_):\n",
        "        plt.clf()\n",
        "        plt.figure(figsize=(10, 6))\n",
        "\n",
        "        metric_colors = {\n",
        "            'NMI': '0.15', 'ARI': '0.25', 'ACC': '0.40',\n",
        "            'Precision': '0.60', 'Recall': '0.70', 'F1': '0.9'\n",
        "        }\n",
        "\n",
        "        for run_id in run_id_dropdown.value:\n",
        "            run_df = df[df['RunID'] == run_id]\n",
        "            if run_id == 'kmeans_all-mpnet-base-v2':\n",
        "                color = 'blue'\n",
        "            else:\n",
        "                color = 'orange'\n",
        "\n",
        "            for metric, checkbox in metric_checkboxes.items():\n",
        "                if checkbox.value:\n",
        "                    metric_shade = metric_colors[metric]\n",
        "                    if run_id == 'kmeans_glove-840b-300d':\n",
        "                        color = plt.cm.get_cmap('Oranges')(float(metric_shade))\n",
        "                    elif run_id == 'kmeans_all-mpnet-base-v2':\n",
        "                        color = plt.cm.get_cmap('Blues')(float(metric_shade))\n",
        "                    plt.plot(run_df['size_sample'], run_df[metric], marker='o', label=f'{run_id} - {metric}', color=color)\n",
        "\n",
        "        plt.xlabel('Augment size')\n",
        "        plt.ylabel('Metric Value')\n",
        "        plt.title(f'{choosen_task}, data size={reducted_size}')\n",
        "\n",
        "        # plt.legend(bbox_to_anchor=(1.05, 1), loc='upper left')\n",
        "        plt.legend(loc='lower right')\n",
        "        plt.grid()\n",
        "        plt.show()\n",
        "\n",
        "    redraw_button.on_click(update_plot)\n",
        "\n",
        "    controls = widgets.VBox([run_id_dropdown, metric_checkbox_group, redraw_button])\n",
        "\n",
        "    display(controls)\n",
        "    update_plot(None)\n",
        "\n",
        "plot_metrics_with_utterances(results_df)\n"
      ]
    }
  ],
  "metadata": {
    "colab": {
      "provenance": []
    },
    "kernelspec": {
      "display_name": "Python 3",
      "name": "python3"
    },
    "language_info": {
      "name": "python"
    },
    "widgets": {
      "application/vnd.jupyter.widget-state+json": {
        "01f0da48192141109838529da08ae176": {
          "model_module": "@jupyter-widgets/controls",
          "model_module_version": "1.5.0",
          "model_name": "ButtonStyleModel",
          "state": {
            "_model_module": "@jupyter-widgets/controls",
            "_model_module_version": "1.5.0",
            "_model_name": "ButtonStyleModel",
            "_view_count": null,
            "_view_module": "@jupyter-widgets/base",
            "_view_module_version": "1.2.0",
            "_view_name": "StyleView",
            "button_color": null,
            "font_weight": ""
          }
        },
        "202678a3ff094e76b10ecd549b640f6b": {
          "model_module": "@jupyter-widgets/base",
          "model_module_version": "1.2.0",
          "model_name": "LayoutModel",
          "state": {
            "_model_module": "@jupyter-widgets/base",
            "_model_module_version": "1.2.0",
            "_model_name": "LayoutModel",
            "_view_count": null,
            "_view_module": "@jupyter-widgets/base",
            "_view_module_version": "1.2.0",
            "_view_name": "LayoutView",
            "align_content": null,
            "align_items": null,
            "align_self": null,
            "border": null,
            "bottom": null,
            "display": null,
            "flex": null,
            "flex_flow": null,
            "grid_area": null,
            "grid_auto_columns": null,
            "grid_auto_flow": null,
            "grid_auto_rows": null,
            "grid_column": null,
            "grid_gap": null,
            "grid_row": null,
            "grid_template_areas": null,
            "grid_template_columns": null,
            "grid_template_rows": null,
            "height": null,
            "justify_content": null,
            "justify_items": null,
            "left": null,
            "margin": null,
            "max_height": null,
            "max_width": null,
            "min_height": null,
            "min_width": null,
            "object_fit": null,
            "object_position": null,
            "order": null,
            "overflow": null,
            "overflow_x": null,
            "overflow_y": null,
            "padding": null,
            "right": null,
            "top": null,
            "visibility": null,
            "width": null
          }
        },
        "2af63f6187854a3cb9a7e06cc31950fb": {
          "model_module": "@jupyter-widgets/controls",
          "model_module_version": "1.5.0",
          "model_name": "DescriptionStyleModel",
          "state": {
            "_model_module": "@jupyter-widgets/controls",
            "_model_module_version": "1.5.0",
            "_model_name": "DescriptionStyleModel",
            "_view_count": null,
            "_view_module": "@jupyter-widgets/base",
            "_view_module_version": "1.2.0",
            "_view_name": "StyleView",
            "description_width": ""
          }
        },
        "2be724ef286244f8bc53c40082d3724e": {
          "model_module": "@jupyter-widgets/controls",
          "model_module_version": "1.5.0",
          "model_name": "DescriptionStyleModel",
          "state": {
            "_model_module": "@jupyter-widgets/controls",
            "_model_module_version": "1.5.0",
            "_model_name": "DescriptionStyleModel",
            "_view_count": null,
            "_view_module": "@jupyter-widgets/base",
            "_view_module_version": "1.2.0",
            "_view_name": "StyleView",
            "description_width": ""
          }
        },
        "3fee4546ffc64461912412ef13f3efa5": {
          "model_module": "@jupyter-widgets/controls",
          "model_module_version": "1.5.0",
          "model_name": "CheckboxModel",
          "state": {
            "_dom_classes": [],
            "_model_module": "@jupyter-widgets/controls",
            "_model_module_version": "1.5.0",
            "_model_name": "CheckboxModel",
            "_view_count": null,
            "_view_module": "@jupyter-widgets/controls",
            "_view_module_version": "1.5.0",
            "_view_name": "CheckboxView",
            "description": "ACC",
            "description_tooltip": null,
            "disabled": false,
            "indent": true,
            "layout": "IPY_MODEL_8bc1b1a9fe764f3694bae12b550bb507",
            "style": "IPY_MODEL_43e7921668004ff9ba325bc699b921a0",
            "value": true
          }
        },
        "43e7921668004ff9ba325bc699b921a0": {
          "model_module": "@jupyter-widgets/controls",
          "model_module_version": "1.5.0",
          "model_name": "DescriptionStyleModel",
          "state": {
            "_model_module": "@jupyter-widgets/controls",
            "_model_module_version": "1.5.0",
            "_model_name": "DescriptionStyleModel",
            "_view_count": null,
            "_view_module": "@jupyter-widgets/base",
            "_view_module_version": "1.2.0",
            "_view_name": "StyleView",
            "description_width": ""
          }
        },
        "46d5253ed7f747dbb1682f8b8037d6e7": {
          "model_module": "@jupyter-widgets/controls",
          "model_module_version": "1.5.0",
          "model_name": "DescriptionStyleModel",
          "state": {
            "_model_module": "@jupyter-widgets/controls",
            "_model_module_version": "1.5.0",
            "_model_name": "DescriptionStyleModel",
            "_view_count": null,
            "_view_module": "@jupyter-widgets/base",
            "_view_module_version": "1.2.0",
            "_view_name": "StyleView",
            "description_width": ""
          }
        },
        "528f287ea2564e88a9a02af92ea54f23": {
          "model_module": "@jupyter-widgets/controls",
          "model_module_version": "1.5.0",
          "model_name": "CheckboxModel",
          "state": {
            "_dom_classes": [],
            "_model_module": "@jupyter-widgets/controls",
            "_model_module_version": "1.5.0",
            "_model_name": "CheckboxModel",
            "_view_count": null,
            "_view_module": "@jupyter-widgets/controls",
            "_view_module_version": "1.5.0",
            "_view_name": "CheckboxView",
            "description": "NMI",
            "description_tooltip": null,
            "disabled": false,
            "indent": true,
            "layout": "IPY_MODEL_89dbffb0f9e341a6b9ec324c09859e58",
            "style": "IPY_MODEL_2be724ef286244f8bc53c40082d3724e",
            "value": false
          }
        },
        "5e9038d56f9942648fb7d77303fb1773": {
          "model_module": "@jupyter-widgets/controls",
          "model_module_version": "1.5.0",
          "model_name": "ButtonModel",
          "state": {
            "_dom_classes": [],
            "_model_module": "@jupyter-widgets/controls",
            "_model_module_version": "1.5.0",
            "_model_name": "ButtonModel",
            "_view_count": null,
            "_view_module": "@jupyter-widgets/controls",
            "_view_module_version": "1.5.0",
            "_view_name": "ButtonView",
            "button_style": "",
            "description": "Redraw Plot",
            "disabled": false,
            "icon": "",
            "layout": "IPY_MODEL_af5bca53ea634665922436977df03c7c",
            "style": "IPY_MODEL_01f0da48192141109838529da08ae176",
            "tooltip": ""
          }
        },
        "685229ed676e4b41afc8b813a0ea1d65": {
          "model_module": "@jupyter-widgets/controls",
          "model_module_version": "1.5.0",
          "model_name": "DescriptionStyleModel",
          "state": {
            "_model_module": "@jupyter-widgets/controls",
            "_model_module_version": "1.5.0",
            "_model_name": "DescriptionStyleModel",
            "_view_count": null,
            "_view_module": "@jupyter-widgets/base",
            "_view_module_version": "1.2.0",
            "_view_name": "StyleView",
            "description_width": ""
          }
        },
        "79006f3a33ae41f2bc307e68052ed9aa": {
          "model_module": "@jupyter-widgets/controls",
          "model_module_version": "1.5.0",
          "model_name": "VBoxModel",
          "state": {
            "_dom_classes": [],
            "_model_module": "@jupyter-widgets/controls",
            "_model_module_version": "1.5.0",
            "_model_name": "VBoxModel",
            "_view_count": null,
            "_view_module": "@jupyter-widgets/controls",
            "_view_module_version": "1.5.0",
            "_view_name": "VBoxView",
            "box_style": "",
            "children": [
              "IPY_MODEL_528f287ea2564e88a9a02af92ea54f23",
              "IPY_MODEL_dc8332f6b5674dd8b9acf8c2f0829eca",
              "IPY_MODEL_3fee4546ffc64461912412ef13f3efa5",
              "IPY_MODEL_acb19a185c69431a8bb05afeddc33d9d",
              "IPY_MODEL_c5de1e334c864e2ca2a2e567baab4678",
              "IPY_MODEL_dae9df6d2058467db97f3006af4b3f67"
            ],
            "layout": "IPY_MODEL_202678a3ff094e76b10ecd549b640f6b"
          }
        },
        "89dbffb0f9e341a6b9ec324c09859e58": {
          "model_module": "@jupyter-widgets/base",
          "model_module_version": "1.2.0",
          "model_name": "LayoutModel",
          "state": {
            "_model_module": "@jupyter-widgets/base",
            "_model_module_version": "1.2.0",
            "_model_name": "LayoutModel",
            "_view_count": null,
            "_view_module": "@jupyter-widgets/base",
            "_view_module_version": "1.2.0",
            "_view_name": "LayoutView",
            "align_content": null,
            "align_items": null,
            "align_self": null,
            "border": null,
            "bottom": null,
            "display": null,
            "flex": null,
            "flex_flow": null,
            "grid_area": null,
            "grid_auto_columns": null,
            "grid_auto_flow": null,
            "grid_auto_rows": null,
            "grid_column": null,
            "grid_gap": null,
            "grid_row": null,
            "grid_template_areas": null,
            "grid_template_columns": null,
            "grid_template_rows": null,
            "height": null,
            "justify_content": null,
            "justify_items": null,
            "left": null,
            "margin": null,
            "max_height": null,
            "max_width": null,
            "min_height": null,
            "min_width": null,
            "object_fit": null,
            "object_position": null,
            "order": null,
            "overflow": null,
            "overflow_x": null,
            "overflow_y": null,
            "padding": null,
            "right": null,
            "top": null,
            "visibility": null,
            "width": null
          }
        },
        "8bc1b1a9fe764f3694bae12b550bb507": {
          "model_module": "@jupyter-widgets/base",
          "model_module_version": "1.2.0",
          "model_name": "LayoutModel",
          "state": {
            "_model_module": "@jupyter-widgets/base",
            "_model_module_version": "1.2.0",
            "_model_name": "LayoutModel",
            "_view_count": null,
            "_view_module": "@jupyter-widgets/base",
            "_view_module_version": "1.2.0",
            "_view_name": "LayoutView",
            "align_content": null,
            "align_items": null,
            "align_self": null,
            "border": null,
            "bottom": null,
            "display": null,
            "flex": null,
            "flex_flow": null,
            "grid_area": null,
            "grid_auto_columns": null,
            "grid_auto_flow": null,
            "grid_auto_rows": null,
            "grid_column": null,
            "grid_gap": null,
            "grid_row": null,
            "grid_template_areas": null,
            "grid_template_columns": null,
            "grid_template_rows": null,
            "height": null,
            "justify_content": null,
            "justify_items": null,
            "left": null,
            "margin": null,
            "max_height": null,
            "max_width": null,
            "min_height": null,
            "min_width": null,
            "object_fit": null,
            "object_position": null,
            "order": null,
            "overflow": null,
            "overflow_x": null,
            "overflow_y": null,
            "padding": null,
            "right": null,
            "top": null,
            "visibility": null,
            "width": null
          }
        },
        "9dc4e3f6175e416e8112ab646165044e": {
          "model_module": "@jupyter-widgets/controls",
          "model_module_version": "1.5.0",
          "model_name": "VBoxModel",
          "state": {
            "_dom_classes": [],
            "_model_module": "@jupyter-widgets/controls",
            "_model_module_version": "1.5.0",
            "_model_name": "VBoxModel",
            "_view_count": null,
            "_view_module": "@jupyter-widgets/controls",
            "_view_module_version": "1.5.0",
            "_view_name": "VBoxView",
            "box_style": "",
            "children": [
              "IPY_MODEL_b3c24142456447559d4868e0d731da13",
              "IPY_MODEL_79006f3a33ae41f2bc307e68052ed9aa",
              "IPY_MODEL_5e9038d56f9942648fb7d77303fb1773"
            ],
            "layout": "IPY_MODEL_b1fe5ebbb6d44438b0076f7619dae3d7"
          }
        },
        "a70cbdd05f2f48208f33e9be9c225c43": {
          "model_module": "@jupyter-widgets/controls",
          "model_module_version": "1.5.0",
          "model_name": "DescriptionStyleModel",
          "state": {
            "_model_module": "@jupyter-widgets/controls",
            "_model_module_version": "1.5.0",
            "_model_name": "DescriptionStyleModel",
            "_view_count": null,
            "_view_module": "@jupyter-widgets/base",
            "_view_module_version": "1.2.0",
            "_view_name": "StyleView",
            "description_width": ""
          }
        },
        "acb19a185c69431a8bb05afeddc33d9d": {
          "model_module": "@jupyter-widgets/controls",
          "model_module_version": "1.5.0",
          "model_name": "CheckboxModel",
          "state": {
            "_dom_classes": [],
            "_model_module": "@jupyter-widgets/controls",
            "_model_module_version": "1.5.0",
            "_model_name": "CheckboxModel",
            "_view_count": null,
            "_view_module": "@jupyter-widgets/controls",
            "_view_module_version": "1.5.0",
            "_view_name": "CheckboxView",
            "description": "Precision",
            "description_tooltip": null,
            "disabled": false,
            "indent": true,
            "layout": "IPY_MODEL_ee0a4d5c2de947378bcccb72bd9f7327",
            "style": "IPY_MODEL_685229ed676e4b41afc8b813a0ea1d65",
            "value": false
          }
        },
        "af5bca53ea634665922436977df03c7c": {
          "model_module": "@jupyter-widgets/base",
          "model_module_version": "1.2.0",
          "model_name": "LayoutModel",
          "state": {
            "_model_module": "@jupyter-widgets/base",
            "_model_module_version": "1.2.0",
            "_model_name": "LayoutModel",
            "_view_count": null,
            "_view_module": "@jupyter-widgets/base",
            "_view_module_version": "1.2.0",
            "_view_name": "LayoutView",
            "align_content": null,
            "align_items": null,
            "align_self": null,
            "border": null,
            "bottom": null,
            "display": null,
            "flex": null,
            "flex_flow": null,
            "grid_area": null,
            "grid_auto_columns": null,
            "grid_auto_flow": null,
            "grid_auto_rows": null,
            "grid_column": null,
            "grid_gap": null,
            "grid_row": null,
            "grid_template_areas": null,
            "grid_template_columns": null,
            "grid_template_rows": null,
            "height": null,
            "justify_content": null,
            "justify_items": null,
            "left": null,
            "margin": null,
            "max_height": null,
            "max_width": null,
            "min_height": null,
            "min_width": null,
            "object_fit": null,
            "object_position": null,
            "order": null,
            "overflow": null,
            "overflow_x": null,
            "overflow_y": null,
            "padding": null,
            "right": null,
            "top": null,
            "visibility": null,
            "width": null
          }
        },
        "b1fe5ebbb6d44438b0076f7619dae3d7": {
          "model_module": "@jupyter-widgets/base",
          "model_module_version": "1.2.0",
          "model_name": "LayoutModel",
          "state": {
            "_model_module": "@jupyter-widgets/base",
            "_model_module_version": "1.2.0",
            "_model_name": "LayoutModel",
            "_view_count": null,
            "_view_module": "@jupyter-widgets/base",
            "_view_module_version": "1.2.0",
            "_view_name": "LayoutView",
            "align_content": null,
            "align_items": null,
            "align_self": null,
            "border": null,
            "bottom": null,
            "display": null,
            "flex": null,
            "flex_flow": null,
            "grid_area": null,
            "grid_auto_columns": null,
            "grid_auto_flow": null,
            "grid_auto_rows": null,
            "grid_column": null,
            "grid_gap": null,
            "grid_row": null,
            "grid_template_areas": null,
            "grid_template_columns": null,
            "grid_template_rows": null,
            "height": null,
            "justify_content": null,
            "justify_items": null,
            "left": null,
            "margin": null,
            "max_height": null,
            "max_width": null,
            "min_height": null,
            "min_width": null,
            "object_fit": null,
            "object_position": null,
            "order": null,
            "overflow": null,
            "overflow_x": null,
            "overflow_y": null,
            "padding": null,
            "right": null,
            "top": null,
            "visibility": null,
            "width": null
          }
        },
        "b3c24142456447559d4868e0d731da13": {
          "model_module": "@jupyter-widgets/controls",
          "model_module_version": "1.5.0",
          "model_name": "SelectMultipleModel",
          "state": {
            "_dom_classes": [],
            "_model_module": "@jupyter-widgets/controls",
            "_model_module_version": "1.5.0",
            "_model_name": "SelectMultipleModel",
            "_options_labels": [
              "kmeans_all-mpnet-base-v2"
            ],
            "_view_count": null,
            "_view_module": "@jupyter-widgets/controls",
            "_view_module_version": "1.5.0",
            "_view_name": "SelectMultipleView",
            "description": "RunID:",
            "description_tooltip": null,
            "disabled": false,
            "index": [
              0
            ],
            "layout": "IPY_MODEL_e376d98498f846c38d877fd0318a14f7",
            "rows": 5,
            "style": "IPY_MODEL_a70cbdd05f2f48208f33e9be9c225c43"
          }
        },
        "c025240f7fc94fb48cd44490c16e4720": {
          "model_module": "@jupyter-widgets/base",
          "model_module_version": "1.2.0",
          "model_name": "LayoutModel",
          "state": {
            "_model_module": "@jupyter-widgets/base",
            "_model_module_version": "1.2.0",
            "_model_name": "LayoutModel",
            "_view_count": null,
            "_view_module": "@jupyter-widgets/base",
            "_view_module_version": "1.2.0",
            "_view_name": "LayoutView",
            "align_content": null,
            "align_items": null,
            "align_self": null,
            "border": null,
            "bottom": null,
            "display": null,
            "flex": null,
            "flex_flow": null,
            "grid_area": null,
            "grid_auto_columns": null,
            "grid_auto_flow": null,
            "grid_auto_rows": null,
            "grid_column": null,
            "grid_gap": null,
            "grid_row": null,
            "grid_template_areas": null,
            "grid_template_columns": null,
            "grid_template_rows": null,
            "height": null,
            "justify_content": null,
            "justify_items": null,
            "left": null,
            "margin": null,
            "max_height": null,
            "max_width": null,
            "min_height": null,
            "min_width": null,
            "object_fit": null,
            "object_position": null,
            "order": null,
            "overflow": null,
            "overflow_x": null,
            "overflow_y": null,
            "padding": null,
            "right": null,
            "top": null,
            "visibility": null,
            "width": null
          }
        },
        "c5de1e334c864e2ca2a2e567baab4678": {
          "model_module": "@jupyter-widgets/controls",
          "model_module_version": "1.5.0",
          "model_name": "CheckboxModel",
          "state": {
            "_dom_classes": [],
            "_model_module": "@jupyter-widgets/controls",
            "_model_module_version": "1.5.0",
            "_model_name": "CheckboxModel",
            "_view_count": null,
            "_view_module": "@jupyter-widgets/controls",
            "_view_module_version": "1.5.0",
            "_view_name": "CheckboxView",
            "description": "Recall",
            "description_tooltip": null,
            "disabled": false,
            "indent": true,
            "layout": "IPY_MODEL_e2a08733e5444ab3948d9a16a0c8e5fd",
            "style": "IPY_MODEL_d15cd5dd0145492ead8a5295597becc5",
            "value": false
          }
        },
        "d15cd5dd0145492ead8a5295597becc5": {
          "model_module": "@jupyter-widgets/controls",
          "model_module_version": "1.5.0",
          "model_name": "DescriptionStyleModel",
          "state": {
            "_model_module": "@jupyter-widgets/controls",
            "_model_module_version": "1.5.0",
            "_model_name": "DescriptionStyleModel",
            "_view_count": null,
            "_view_module": "@jupyter-widgets/base",
            "_view_module_version": "1.2.0",
            "_view_name": "StyleView",
            "description_width": ""
          }
        },
        "dae9df6d2058467db97f3006af4b3f67": {
          "model_module": "@jupyter-widgets/controls",
          "model_module_version": "1.5.0",
          "model_name": "CheckboxModel",
          "state": {
            "_dom_classes": [],
            "_model_module": "@jupyter-widgets/controls",
            "_model_module_version": "1.5.0",
            "_model_name": "CheckboxModel",
            "_view_count": null,
            "_view_module": "@jupyter-widgets/controls",
            "_view_module_version": "1.5.0",
            "_view_name": "CheckboxView",
            "description": "F1",
            "description_tooltip": null,
            "disabled": false,
            "indent": true,
            "layout": "IPY_MODEL_f6a8861217d442ee81b9bdcce8c21c52",
            "style": "IPY_MODEL_46d5253ed7f747dbb1682f8b8037d6e7",
            "value": false
          }
        },
        "dc8332f6b5674dd8b9acf8c2f0829eca": {
          "model_module": "@jupyter-widgets/controls",
          "model_module_version": "1.5.0",
          "model_name": "CheckboxModel",
          "state": {
            "_dom_classes": [],
            "_model_module": "@jupyter-widgets/controls",
            "_model_module_version": "1.5.0",
            "_model_name": "CheckboxModel",
            "_view_count": null,
            "_view_module": "@jupyter-widgets/controls",
            "_view_module_version": "1.5.0",
            "_view_name": "CheckboxView",
            "description": "ARI",
            "description_tooltip": null,
            "disabled": false,
            "indent": true,
            "layout": "IPY_MODEL_c025240f7fc94fb48cd44490c16e4720",
            "style": "IPY_MODEL_2af63f6187854a3cb9a7e06cc31950fb",
            "value": false
          }
        },
        "e2a08733e5444ab3948d9a16a0c8e5fd": {
          "model_module": "@jupyter-widgets/base",
          "model_module_version": "1.2.0",
          "model_name": "LayoutModel",
          "state": {
            "_model_module": "@jupyter-widgets/base",
            "_model_module_version": "1.2.0",
            "_model_name": "LayoutModel",
            "_view_count": null,
            "_view_module": "@jupyter-widgets/base",
            "_view_module_version": "1.2.0",
            "_view_name": "LayoutView",
            "align_content": null,
            "align_items": null,
            "align_self": null,
            "border": null,
            "bottom": null,
            "display": null,
            "flex": null,
            "flex_flow": null,
            "grid_area": null,
            "grid_auto_columns": null,
            "grid_auto_flow": null,
            "grid_auto_rows": null,
            "grid_column": null,
            "grid_gap": null,
            "grid_row": null,
            "grid_template_areas": null,
            "grid_template_columns": null,
            "grid_template_rows": null,
            "height": null,
            "justify_content": null,
            "justify_items": null,
            "left": null,
            "margin": null,
            "max_height": null,
            "max_width": null,
            "min_height": null,
            "min_width": null,
            "object_fit": null,
            "object_position": null,
            "order": null,
            "overflow": null,
            "overflow_x": null,
            "overflow_y": null,
            "padding": null,
            "right": null,
            "top": null,
            "visibility": null,
            "width": null
          }
        },
        "e376d98498f846c38d877fd0318a14f7": {
          "model_module": "@jupyter-widgets/base",
          "model_module_version": "1.2.0",
          "model_name": "LayoutModel",
          "state": {
            "_model_module": "@jupyter-widgets/base",
            "_model_module_version": "1.2.0",
            "_model_name": "LayoutModel",
            "_view_count": null,
            "_view_module": "@jupyter-widgets/base",
            "_view_module_version": "1.2.0",
            "_view_name": "LayoutView",
            "align_content": null,
            "align_items": null,
            "align_self": null,
            "border": null,
            "bottom": null,
            "display": null,
            "flex": null,
            "flex_flow": null,
            "grid_area": null,
            "grid_auto_columns": null,
            "grid_auto_flow": null,
            "grid_auto_rows": null,
            "grid_column": null,
            "grid_gap": null,
            "grid_row": null,
            "grid_template_areas": null,
            "grid_template_columns": null,
            "grid_template_rows": null,
            "height": null,
            "justify_content": null,
            "justify_items": null,
            "left": null,
            "margin": null,
            "max_height": null,
            "max_width": null,
            "min_height": null,
            "min_width": null,
            "object_fit": null,
            "object_position": null,
            "order": null,
            "overflow": null,
            "overflow_x": null,
            "overflow_y": null,
            "padding": null,
            "right": null,
            "top": null,
            "visibility": null,
            "width": null
          }
        },
        "ee0a4d5c2de947378bcccb72bd9f7327": {
          "model_module": "@jupyter-widgets/base",
          "model_module_version": "1.2.0",
          "model_name": "LayoutModel",
          "state": {
            "_model_module": "@jupyter-widgets/base",
            "_model_module_version": "1.2.0",
            "_model_name": "LayoutModel",
            "_view_count": null,
            "_view_module": "@jupyter-widgets/base",
            "_view_module_version": "1.2.0",
            "_view_name": "LayoutView",
            "align_content": null,
            "align_items": null,
            "align_self": null,
            "border": null,
            "bottom": null,
            "display": null,
            "flex": null,
            "flex_flow": null,
            "grid_area": null,
            "grid_auto_columns": null,
            "grid_auto_flow": null,
            "grid_auto_rows": null,
            "grid_column": null,
            "grid_gap": null,
            "grid_row": null,
            "grid_template_areas": null,
            "grid_template_columns": null,
            "grid_template_rows": null,
            "height": null,
            "justify_content": null,
            "justify_items": null,
            "left": null,
            "margin": null,
            "max_height": null,
            "max_width": null,
            "min_height": null,
            "min_width": null,
            "object_fit": null,
            "object_position": null,
            "order": null,
            "overflow": null,
            "overflow_x": null,
            "overflow_y": null,
            "padding": null,
            "right": null,
            "top": null,
            "visibility": null,
            "width": null
          }
        },
        "f6a8861217d442ee81b9bdcce8c21c52": {
          "model_module": "@jupyter-widgets/base",
          "model_module_version": "1.2.0",
          "model_name": "LayoutModel",
          "state": {
            "_model_module": "@jupyter-widgets/base",
            "_model_module_version": "1.2.0",
            "_model_name": "LayoutModel",
            "_view_count": null,
            "_view_module": "@jupyter-widgets/base",
            "_view_module_version": "1.2.0",
            "_view_name": "LayoutView",
            "align_content": null,
            "align_items": null,
            "align_self": null,
            "border": null,
            "bottom": null,
            "display": null,
            "flex": null,
            "flex_flow": null,
            "grid_area": null,
            "grid_auto_columns": null,
            "grid_auto_flow": null,
            "grid_auto_rows": null,
            "grid_column": null,
            "grid_gap": null,
            "grid_row": null,
            "grid_template_areas": null,
            "grid_template_columns": null,
            "grid_template_rows": null,
            "height": null,
            "justify_content": null,
            "justify_items": null,
            "left": null,
            "margin": null,
            "max_height": null,
            "max_width": null,
            "min_height": null,
            "min_width": null,
            "object_fit": null,
            "object_position": null,
            "order": null,
            "overflow": null,
            "overflow_x": null,
            "overflow_y": null,
            "padding": null,
            "right": null,
            "top": null,
            "visibility": null,
            "width": null
          }
        }
      }
    }
  },
  "nbformat": 4,
  "nbformat_minor": 0
}
